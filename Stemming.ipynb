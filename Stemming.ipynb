{
 "cells": [
  {
   "cell_type": "code",
   "execution_count": 6,
   "metadata": {},
   "outputs": [],
   "source": [
    "import nltk\n",
    "from nltk.stem import PorterStemmer\n",
    "from nltk.corpus import stopwords"
   ]
  },
  {
   "cell_type": "code",
   "execution_count": 7,
   "metadata": {},
   "outputs": [],
   "source": [
    "paragraph = \"\"\"he integration of our global economy has made life better for billions of men, women and children.  Over the last 25 years, the number of people living in extreme poverty has been cut from nearly 40 percent of humanity to under 10 percent.  That's unprecedented.  And it's not an abstraction.  It means children have enough to eat; mothers don’t die in childbirth. \n",
    "\n",
    "Meanwhile, cracking the genetic code promises to cure diseases that have plagued us for centuries.  The Internet can deliver the entirety of human knowledge to a young girl in a remote village on a single hand-held device.  In medicine and in manufacturing, in education and communications, we’re experiencing a transformation of how human beings live on a scale that recalls the revolutions in agriculture and industry.  And as a result, a person born today is more likely to be healthy, to live longer, and to have access to opportunity than at any time in human history. \n",
    "\n",
    "Moreover, the collapse of colonialism and communism has allowed more people than ever before to live with the freedom to choose their leaders.  Despite the real and troubling areas where freedom appears in retreat, the fact remains that the number of democracies around the world has nearly doubled in the last 25 years. \n",
    "\n",
    "In remote corners of the world, citizens are demanding respect for the dignity of all people no matter their gender, or race, or religion, or disability, or sexual orientation, and those who deny others dignity are subject to public reproach.  An explosion of social media has given ordinary people more ways to express themselves, and has raised people’s expectations for those of us in power.  Indeed, our international order has been so successful that we take it as a given that great powers no longer fight world wars; that the end of the Cold War lifted the shadow of nuclear Armageddon; that the battlefields of Europe have been replaced by peaceful union; that China and India remain on a path of remarkable growth.\n",
    "\n",
    "I say all this not to whitewash the challenges we face, or to suggest complacency.  Rather, I believe that we need to acknowledge these achievements in order to summon the confidence to carry this progress forward and to make sure that we do not abandon those very things that have delivered this progress.\n",
    "\n",
    "In order to move forward, though, we do have to acknowledge that the existing path to global integration requires a course correction.  As too often, those trumpeting the benefits of globalization have ignored inequality within and among nations; have ignored the enduring appeal of ethnic and sectarian identities; have left international institutions ill-equipped, underfunded, under-resourced, in order to handle transnational challenges.\n",
    "\n",
    "And as these real problems have been neglected, alternative visions of the world have pressed forward both in the wealthiest countries and in the poorest:  religious fundamentalism; the politics of ethnicity, or tribe, or sect; aggressive nationalism; a crude populism -- sometimes from the far left, but more often from the far right -- which seeks to restore what they believe was a better, simpler age free of outside contamination.\n",
    "\n",
    "We cannot dismiss these visions.  They are powerful.  They reflect dissatisfaction among too many of our citizens.  I do not believe those visions can deliver security or prosperity over the long term, but I do believe that these visions fail to recognize, at a very basic level, our common humanity.  Moreover, I believe that the acceleration of travel and technology and telecommunications -- together with a global economy that depends on a global supply chain -- makes it self-defeating ultimately for those who seek to reverse this progress.  Today, a nation ringed by walls would only imprison itself.\n",
    "\n",
    "So the answer cannot be a simple rejection of global integration.  Instead, we must work together to make sure the benefits of such integration are broadly shared, and that the disruptions -- economic, political, and cultural -- that are caused by integration are squarely addressed.  This is not the place for a detailed policy blueprint, but let me offer in broad strokes those areas where I believe we must do better together.\n",
    "\n",
    "It starts with making the global economy work better for all people and not just for those at the top.  While open markets, capitalism have raised standards of living around the globe, globalization combined with rapid progress and technology has also weakened the position of workers and their ability to secure a decent wage.  In advanced economies like my own, unions have been undermined, and many manufacturing jobs have disappeared.  Often, those who benefit most from globalization have used their political power to further undermine the position of workers. \n",
    "\n",
    "In developing countries, labor organizations have often been suppressed, and the growth of the middle class has been held back by corruption and underinvestment.  Mercantilist policies pursued by governments with export-driven models threaten to undermine the consensus that underpins global trade.  And meanwhile, global capital is too often unaccountable -- nearly 8 trillion dollars stashed away in tax havens, a shadow banking system that grows beyond the reach of effective oversight.\"\"\""
   ]
  },
  {
   "cell_type": "code",
   "execution_count": 8,
   "metadata": {},
   "outputs": [],
   "source": [
    "sentence = nltk.sent_tokenize(paragraph)"
   ]
  },
  {
   "cell_type": "code",
   "execution_count": 9,
   "metadata": {},
   "outputs": [],
   "source": [
    "stemmer = PorterStemmer()"
   ]
  },
  {
   "cell_type": "code",
   "execution_count": 10,
   "metadata": {},
   "outputs": [
    {
     "name": "stdout",
     "output_type": "stream",
     "text": [
      "he integr of our global economi ha made life better for billion of men , women and children .\n",
      "over the last 25 year , the number of peopl live in extrem poverti ha been cut from nearli 40 percent of human to under 10 percent .\n",
      "that 's unpreced .\n",
      "and it 's not an abstract .\n",
      "It mean children have enough to eat ; mother don ’ t die in childbirth .\n",
      "meanwhil , crack the genet code promis to cure diseas that have plagu us for centuri .\n",
      "the internet can deliv the entireti of human knowledg to a young girl in a remot villag on a singl hand-held devic .\n",
      "In medicin and in manufactur , in educ and commun , we ’ re experienc a transform of how human be live on a scale that recal the revolut in agricultur and industri .\n",
      "and as a result , a person born today is more like to be healthi , to live longer , and to have access to opportun than at ani time in human histori .\n",
      "moreov , the collaps of coloni and commun ha allow more peopl than ever befor to live with the freedom to choos their leader .\n",
      "despit the real and troubl area where freedom appear in retreat , the fact remain that the number of democraci around the world ha nearli doubl in the last 25 year .\n",
      "In remot corner of the world , citizen are demand respect for the digniti of all peopl no matter their gender , or race , or religion , or disabl , or sexual orient , and those who deni other digniti are subject to public reproach .\n",
      "An explos of social media ha given ordinari peopl more way to express themselv , and ha rais peopl ’ s expect for those of us in power .\n",
      "inde , our intern order ha been so success that we take it as a given that great power no longer fight world war ; that the end of the cold war lift the shadow of nuclear armageddon ; that the battlefield of europ have been replac by peac union ; that china and india remain on a path of remark growth .\n",
      "I say all thi not to whitewash the challeng we face , or to suggest complac .\n",
      "rather , I believ that we need to acknowledg these achiev in order to summon the confid to carri thi progress forward and to make sure that we do not abandon those veri thing that have deliv thi progress .\n",
      "In order to move forward , though , we do have to acknowledg that the exist path to global integr requir a cours correct .\n",
      "As too often , those trumpet the benefit of global have ignor inequ within and among nation ; have ignor the endur appeal of ethnic and sectarian ident ; have left intern institut ill-equip , underfund , under-resourc , in order to handl transnat challeng .\n",
      "and as these real problem have been neglect , altern vision of the world have press forward both in the wealthiest countri and in the poorest : religi fundament ; the polit of ethnic , or tribe , or sect ; aggress nation ; a crude popul -- sometim from the far left , but more often from the far right -- which seek to restor what they believ wa a better , simpler age free of outsid contamin .\n",
      "We can not dismiss these vision .\n",
      "they are power .\n",
      "they reflect dissatisfact among too mani of our citizen .\n",
      "I do not believ those vision can deliv secur or prosper over the long term , but I do believ that these vision fail to recogn , at a veri basic level , our common human .\n",
      "moreov , I believ that the acceler of travel and technolog and telecommun -- togeth with a global economi that depend on a global suppli chain -- make it self-def ultim for those who seek to revers thi progress .\n",
      "today , a nation ring by wall would onli imprison itself .\n",
      "So the answer can not be a simpl reject of global integr .\n",
      "instead , we must work togeth to make sure the benefit of such integr are broadli share , and that the disrupt -- econom , polit , and cultur -- that are caus by integr are squar address .\n",
      "thi is not the place for a detail polici blueprint , but let me offer in broad stroke those area where I believ we must do better togeth .\n",
      "It start with make the global economi work better for all peopl and not just for those at the top .\n",
      "while open market , capit have rais standard of live around the globe , global combin with rapid progress and technolog ha also weaken the posit of worker and their abil to secur a decent wage .\n",
      "In advanc economi like my own , union have been undermin , and mani manufactur job have disappear .\n",
      "often , those who benefit most from global have use their polit power to further undermin the posit of worker .\n",
      "In develop countri , labor organ have often been suppress , and the growth of the middl class ha been held back by corrupt and underinvest .\n",
      "mercantilist polici pursu by govern with export-driven model threaten to undermin the consensu that underpin global trade .\n",
      "and meanwhil , global capit is too often unaccount -- nearli 8 trillion dollar stash away in tax haven , a shadow bank system that grow beyond the reach of effect oversight .\n"
     ]
    }
   ],
   "source": [
    "for i in range(len(sentence)):\n",
    "    words = nltk.word_tokenize(sentence[i])\n",
    "    words = [stemmer.stem(word) for word in words]\n",
    "    sentences = ' '.join(words)\n",
    "    print(sentences)"
   ]
  }
 ],
 "metadata": {
  "kernelspec": {
   "display_name": "Python 3",
   "language": "python",
   "name": "python3"
  },
  "language_info": {
   "codemirror_mode": {
    "name": "ipython",
    "version": 3
   },
   "file_extension": ".py",
   "mimetype": "text/x-python",
   "name": "python",
   "nbconvert_exporter": "python",
   "pygments_lexer": "ipython3",
   "version": "3.7.6"
  }
 },
 "nbformat": 4,
 "nbformat_minor": 4
}
