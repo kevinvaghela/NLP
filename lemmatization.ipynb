{
 "cells": [
  {
   "cell_type": "code",
   "execution_count": 1,
   "metadata": {},
   "outputs": [],
   "source": [
    "import nltk\n",
    "from nltk.stem import WordNetLemmatizer\n",
    "from nltk.corpus import stopwords"
   ]
  },
  {
   "cell_type": "code",
   "execution_count": 2,
   "metadata": {},
   "outputs": [],
   "source": [
    "paragraph = \"\"\" The integration of our global economy has made life better for billions of men, women and children.  Over the last 25 years, the number of people living in extreme poverty has been cut from nearly 40 percent of humanity to under 10 percent.  That's unprecedented.  And it's not an abstraction.  It means children have enough to eat; mothers don’t die in childbirth. \n",
    "Meanwhile, cracking the genetic code promises to cure diseases that have plagued us for centuries.  The Internet can deliver the entirety of human knowledge to a young girl in a remote village on a single hand-held device.  In medicine and in manufacturing, in education and communications, we’re experiencing a transformation of how human beings live on a scale that recalls the revolutions in agriculture and industry.  And as a result, a person born today is more likely to be healthy, to live longer, and to have access to opportunity than at any time in human history. \n",
    "Moreover, the collapse of colonialism and communism has allowed more people than ever before to live with the freedom to choose their leaders.  Despite the real and troubling areas where freedom appears in retreat, the fact remains that the number of democracies around the world has nearly doubled in the last 25 years. \n",
    "In remote corners of the world, citizens are demanding respect for the dignity of all people no matter their gender, or race, or religion, or disability, or sexual orientation, and those who deny others dignity are subject to public reproach.  An explosion of social media has given ordinary people more ways to express themselves, and has raised people’s expectations for those of us in power.  Indeed, our international order has been so successful that we take it as a given that great powers no longer fight world wars; that the end of the Cold War lifted the shadow of nuclear Armageddon; that the battlefields of Europe have been replaced by peaceful union; that China and India remain on a path of remarkable growth.\n",
    "I say all this not to whitewash the challenges we face, or to suggest complacency.  Rather, I believe that we need to acknowledge these achievements in order to summon the confidence to carry this progress forward and to make sure that we do not abandon those very things that have delivered this progress.\n",
    "In order to move forward, though, we do have to acknowledge that the existing path to global integration requires a course correction.  As too often, those trumpeting the benefits of globalization have ignored inequality within and among nations; have ignored the enduring appeal of ethnic and sectarian identities; have left international institutions ill-equipped, underfunded, under-resourced, in order to handle transnational challenges.\n",
    "And as these real problems have been neglected, alternative visions of the world have pressed forward both in the wealthiest countries and in the poorest:  religious fundamentalism; the politics of ethnicity, or tribe, or sect; aggressive nationalism; a crude populism -- sometimes from the far left, but more often from the far right -- which seeks to restore what they believe was a better, simpler age free of outside contamination.\n",
    "We cannot dismiss these visions.  They are powerful.  They reflect dissatisfaction among too many of our citizens.  I do not believe those visions can deliver security or prosperity over the long term, but I do believe that these visions fail to recognize, at a very basic level, our common humanity.  Moreover, I believe that the acceleration of travel and technology and telecommunications -- together with a global economy that depends on a global supply chain -- makes it self-defeating ultimately for those who seek to reverse this progress.  Today, a nation ringed by walls would only imprison itself.\n",
    "So the answer cannot be a simple rejection of global integration.  Instead, we must work together to make sure the benefits of such integration are broadly shared, and that the disruptions -- economic, political, and cultural -- that are caused by integration are squarely addressed.  This is not the place for a detailed policy blueprint, but let me offer in broad strokes those areas where I believe we must do better together.\n",
    "It starts with making the global economy work better for all people and not just for those at the top.  While open markets, capitalism have raised standards of living around the globe, globalization combined with rapid progress and technology has also weakened the position of workers and their ability to secure a decent wage.  In advanced economies like my own, unions have been undermined, and many manufacturing jobs have disappeared.  Often, those who benefit most from globalization have used their political power to further undermine the position of workers. \n",
    "In developing countries, labor organizations have often been suppressed, and the growth of the middle class has been held back by corruption and underinvestment.  Mercantilist policies pursued by governments with export-driven models threaten to undermine the consensus that underpins global trade.  And meanwhile, global capital is too often unaccountable -- nearly 8 trillion dollars stashed away in tax havens, a shadow banking system that grows beyond the reach of effective oversight.\"\"\""
   ]
  },
  {
   "cell_type": "code",
   "execution_count": 3,
   "metadata": {},
   "outputs": [
    {
     "name": "stdout",
     "output_type": "stream",
     "text": [
      "[' The integration of our global economy has made life better for billions of men, women and children.', 'Over the last 25 years, the number of people living in extreme poverty has been cut from nearly 40 percent of humanity to under 10 percent.', \"That's unprecedented.\", \"And it's not an abstraction.\", 'It means children have enough to eat; mothers don’t die in childbirth.', 'Meanwhile, cracking the genetic code promises to cure diseases that have plagued us for centuries.', 'The Internet can deliver the entirety of human knowledge to a young girl in a remote village on a single hand-held device.', 'In medicine and in manufacturing, in education and communications, we’re experiencing a transformation of how human beings live on a scale that recalls the revolutions in agriculture and industry.', 'And as a result, a person born today is more likely to be healthy, to live longer, and to have access to opportunity than at any time in human history.', 'Moreover, the collapse of colonialism and communism has allowed more people than ever before to live with the freedom to choose their leaders.', 'Despite the real and troubling areas where freedom appears in retreat, the fact remains that the number of democracies around the world has nearly doubled in the last 25 years.', 'In remote corners of the world, citizens are demanding respect for the dignity of all people no matter their gender, or race, or religion, or disability, or sexual orientation, and those who deny others dignity are subject to public reproach.', 'An explosion of social media has given ordinary people more ways to express themselves, and has raised people’s expectations for those of us in power.', 'Indeed, our international order has been so successful that we take it as a given that great powers no longer fight world wars; that the end of the Cold War lifted the shadow of nuclear Armageddon; that the battlefields of Europe have been replaced by peaceful union; that China and India remain on a path of remarkable growth.', 'I say all this not to whitewash the challenges we face, or to suggest complacency.', 'Rather, I believe that we need to acknowledge these achievements in order to summon the confidence to carry this progress forward and to make sure that we do not abandon those very things that have delivered this progress.', 'In order to move forward, though, we do have to acknowledge that the existing path to global integration requires a course correction.', 'As too often, those trumpeting the benefits of globalization have ignored inequality within and among nations; have ignored the enduring appeal of ethnic and sectarian identities; have left international institutions ill-equipped, underfunded, under-resourced, in order to handle transnational challenges.', 'And as these real problems have been neglected, alternative visions of the world have pressed forward both in the wealthiest countries and in the poorest:  religious fundamentalism; the politics of ethnicity, or tribe, or sect; aggressive nationalism; a crude populism -- sometimes from the far left, but more often from the far right -- which seeks to restore what they believe was a better, simpler age free of outside contamination.', 'We cannot dismiss these visions.', 'They are powerful.', 'They reflect dissatisfaction among too many of our citizens.', 'I do not believe those visions can deliver security or prosperity over the long term, but I do believe that these visions fail to recognize, at a very basic level, our common humanity.', 'Moreover, I believe that the acceleration of travel and technology and telecommunications -- together with a global economy that depends on a global supply chain -- makes it self-defeating ultimately for those who seek to reverse this progress.', 'Today, a nation ringed by walls would only imprison itself.', 'So the answer cannot be a simple rejection of global integration.', 'Instead, we must work together to make sure the benefits of such integration are broadly shared, and that the disruptions -- economic, political, and cultural -- that are caused by integration are squarely addressed.', 'This is not the place for a detailed policy blueprint, but let me offer in broad strokes those areas where I believe we must do better together.', 'It starts with making the global economy work better for all people and not just for those at the top.', 'While open markets, capitalism have raised standards of living around the globe, globalization combined with rapid progress and technology has also weakened the position of workers and their ability to secure a decent wage.', 'In advanced economies like my own, unions have been undermined, and many manufacturing jobs have disappeared.', 'Often, those who benefit most from globalization have used their political power to further undermine the position of workers.', 'In developing countries, labor organizations have often been suppressed, and the growth of the middle class has been held back by corruption and underinvestment.', 'Mercantilist policies pursued by governments with export-driven models threaten to undermine the consensus that underpins global trade.', 'And meanwhile, global capital is too often unaccountable -- nearly 8 trillion dollars stashed away in tax havens, a shadow banking system that grows beyond the reach of effective oversight.']\n"
     ]
    }
   ],
   "source": [
    "sentences = nltk.sent_tokenize(paragraph)\n",
    "print(sentences)"
   ]
  },
  {
   "cell_type": "code",
   "execution_count": 4,
   "metadata": {},
   "outputs": [],
   "source": [
    "lemmatizer = WordNetLemmatizer()"
   ]
  },
  {
   "cell_type": "code",
   "execution_count": 5,
   "metadata": {},
   "outputs": [],
   "source": [
    "for i in range(len(sentences)):\n",
    "    words = nltk.word_tokenize(sentences[i])\n",
    "    words = [lemmatizer.lemmatize(word) for word in words if word not in set(stopwords.words('english'))]\n",
    "    sentences[i] = ' '.join(words)"
   ]
  },
  {
   "cell_type": "code",
   "execution_count": 6,
   "metadata": {},
   "outputs": [
    {
     "name": "stdout",
     "output_type": "stream",
     "text": [
      "['The integration global economy made life better billion men , woman child .', 'Over last 25 year , number people living extreme poverty cut nearly 40 percent humanity 10 percent .', \"That 's unprecedented .\", \"And 's abstraction .\", 'It mean child enough eat ; mother ’ die childbirth .', 'Meanwhile , cracking genetic code promise cure disease plagued u century .', 'The Internet deliver entirety human knowledge young girl remote village single hand-held device .', 'In medicine manufacturing , education communication , ’ experiencing transformation human being live scale recall revolution agriculture industry .', 'And result , person born today likely healthy , live longer , access opportunity time human history .', 'Moreover , collapse colonialism communism allowed people ever live freedom choose leader .', 'Despite real troubling area freedom appears retreat , fact remains number democracy around world nearly doubled last 25 year .', 'In remote corner world , citizen demanding respect dignity people matter gender , race , religion , disability , sexual orientation , deny others dignity subject public reproach .', 'An explosion social medium given ordinary people way express , raised people ’ expectation u power .', 'Indeed , international order successful take given great power longer fight world war ; end Cold War lifted shadow nuclear Armageddon ; battlefield Europe replaced peaceful union ; China India remain path remarkable growth .', 'I say whitewash challenge face , suggest complacency .', 'Rather , I believe need acknowledge achievement order summon confidence carry progress forward make sure abandon thing delivered progress .', 'In order move forward , though , acknowledge existing path global integration requires course correction .', 'As often , trumpeting benefit globalization ignored inequality within among nation ; ignored enduring appeal ethnic sectarian identity ; left international institution ill-equipped , underfunded , under-resourced , order handle transnational challenge .', 'And real problem neglected , alternative vision world pressed forward wealthiest country poorest : religious fundamentalism ; politics ethnicity , tribe , sect ; aggressive nationalism ; crude populism -- sometimes far left , often far right -- seek restore believe better , simpler age free outside contamination .', 'We dismiss vision .', 'They powerful .', 'They reflect dissatisfaction among many citizen .', 'I believe vision deliver security prosperity long term , I believe vision fail recognize , basic level , common humanity .', 'Moreover , I believe acceleration travel technology telecommunication -- together global economy depends global supply chain -- make self-defeating ultimately seek reverse progress .', 'Today , nation ringed wall would imprison .', 'So answer simple rejection global integration .', 'Instead , must work together make sure benefit integration broadly shared , disruption -- economic , political , cultural -- caused integration squarely addressed .', 'This place detailed policy blueprint , let offer broad stroke area I believe must better together .', 'It start making global economy work better people top .', 'While open market , capitalism raised standard living around globe , globalization combined rapid progress technology also weakened position worker ability secure decent wage .', 'In advanced economy like , union undermined , many manufacturing job disappeared .', 'Often , benefit globalization used political power undermine position worker .', 'In developing country , labor organization often suppressed , growth middle class held back corruption underinvestment .', 'Mercantilist policy pursued government export-driven model threaten undermine consensus underpins global trade .', 'And meanwhile , global capital often unaccountable -- nearly 8 trillion dollar stashed away tax haven , shadow banking system grows beyond reach effective oversight .']\n"
     ]
    }
   ],
   "source": [
    "print(sentences)"
   ]
  },
  {
   "cell_type": "code",
   "execution_count": null,
   "metadata": {},
   "outputs": [],
   "source": []
  }
 ],
 "metadata": {
  "kernelspec": {
   "display_name": "Python 3",
   "language": "python",
   "name": "python3"
  },
  "language_info": {
   "codemirror_mode": {
    "name": "ipython",
    "version": 3
   },
   "file_extension": ".py",
   "mimetype": "text/x-python",
   "name": "python",
   "nbconvert_exporter": "python",
   "pygments_lexer": "ipython3",
   "version": "3.7.6"
  }
 },
 "nbformat": 4,
 "nbformat_minor": 4
}
