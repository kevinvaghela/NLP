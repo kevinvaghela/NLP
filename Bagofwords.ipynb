{
 "cells": [
  {
   "cell_type": "code",
   "execution_count": 1,
   "metadata": {},
   "outputs": [],
   "source": [
    "import nltk"
   ]
  },
  {
   "cell_type": "code",
   "execution_count": 2,
   "metadata": {},
   "outputs": [],
   "source": [
    "paragraph = \"\"\"he integration of our global economy has made life better for billions of men, women and children.  Over the last 25 years, the number of people living in extreme poverty has been cut from nearly 40 percent of humanity to under 10 percent.  That's unprecedented.  And it's not an abstraction.  It means children have enough to eat; mothers don’t die in childbirth. \n",
    "\n",
    "Meanwhile, cracking the genetic code promises to cure diseases that have plagued us for centuries.  The Internet can deliver the entirety of human knowledge to a young girl in a remote village on a single hand-held device.  In medicine and in manufacturing, in education and communications, we’re experiencing a transformation of how human beings live on a scale that recalls the revolutions in agriculture and industry.  And as a result, a person born today is more likely to be healthy, to live longer, and to have access to opportunity than at any time in human history. \n",
    "\n",
    "Moreover, the collapse of colonialism and communism has allowed more people than ever before to live with the freedom to choose their leaders.  Despite the real and troubling areas where freedom appears in retreat, the fact remains that the number of democracies around the world has nearly doubled in the last 25 years. \n",
    "\n",
    "In remote corners of the world, citizens are demanding respect for the dignity of all people no matter their gender, or race, or religion, or disability, or sexual orientation, and those who deny others dignity are subject to public reproach.  An explosion of social media has given ordinary people more ways to express themselves, and has raised people’s expectations for those of us in power.  Indeed, our international order has been so successful that we take it as a given that great powers no longer fight world wars; that the end of the Cold War lifted the shadow of nuclear Armageddon; that the battlefields of Europe have been replaced by peaceful union; that China and India remain on a path of remarkable growth.\n",
    "\n",
    "I say all this not to whitewash the challenges we face, or to suggest complacency.  Rather, I believe that we need to acknowledge these achievements in order to summon the confidence to carry this progress forward and to make sure that we do not abandon those very things that have delivered this progress.\n",
    "\n",
    "In order to move forward, though, we do have to acknowledge that the existing path to global integration requires a course correction.  As too often, those trumpeting the benefits of globalization have ignored inequality within and among nations; have ignored the enduring appeal of ethnic and sectarian identities; have left international institutions ill-equipped, underfunded, under-resourced, in order to handle transnational challenges.\n",
    "\n",
    "And as these real problems have been neglected, alternative visions of the world have pressed forward both in the wealthiest countries and in the poorest:  religious fundamentalism; the politics of ethnicity, or tribe, or sect; aggressive nationalism; a crude populism -- sometimes from the far left, but more often from the far right -- which seeks to restore what they believe was a better, simpler age free of outside contamination.\n",
    "\n",
    "We cannot dismiss these visions.  They are powerful.  They reflect dissatisfaction among too many of our citizens.  I do not believe those visions can deliver security or prosperity over the long term, but I do believe that these visions fail to recognize, at a very basic level, our common humanity.  Moreover, I believe that the acceleration of travel and technology and telecommunications -- together with a global economy that depends on a global supply chain -- makes it self-defeating ultimately for those who seek to reverse this progress.  Today, a nation ringed by walls would only imprison itself.\n",
    "\n",
    "So the answer cannot be a simple rejection of global integration.  Instead, we must work together to make sure the benefits of such integration are broadly shared, and that the disruptions -- economic, political, and cultural -- that are caused by integration are squarely addressed.  This is not the place for a detailed policy blueprint, but let me offer in broad strokes those areas where I believe we must do better together.\n",
    "\n",
    "It starts with making the global economy work better for all people and not just for those at the top.  While open markets, capitalism have raised standards of living around the globe, globalization combined with rapid progress and technology has also weakened the position of workers and their ability to secure a decent wage.  In advanced economies like my own, unions have been undermined, and many manufacturing jobs have disappeared.  Often, those who benefit most from globalization have used their political power to further undermine the position of workers. \n",
    "\n",
    "In developing countries, labor organizations have often been suppressed, and the growth of the middle class has been held back by corruption and underinvestment.  Mercantilist policies pursued by governments with export-driven models threaten to undermine the consensus that underpins global trade.  And meanwhile, global capital is too often unaccountable -- nearly 8 trillion dollars stashed away in tax havens, a shadow banking system that grows beyond the reach of effective oversight.\"\"\""
   ]
  },
  {
   "cell_type": "code",
   "execution_count": 4,
   "metadata": {},
   "outputs": [],
   "source": [
    "import re\n",
    "from nltk.corpus import stopwords\n",
    "from nltk.stem.porter import PorterStemmer\n",
    "from nltk.stem import WordNetLemmatizer"
   ]
  },
  {
   "cell_type": "code",
   "execution_count": 5,
   "metadata": {},
   "outputs": [],
   "source": [
    "ps = PorterStemmer()\n",
    "wordnet = WordNetLemmatizer()\n",
    "sentences = nltk.sent_tokenize(paragraph)\n",
    "corpus = []"
   ]
  },
  {
   "cell_type": "code",
   "execution_count": 8,
   "metadata": {},
   "outputs": [],
   "source": [
    "for i in range(len(sentences)):\n",
    "    review = re.sub('[^a-zA-Z]', ' ', sentences[i])\n",
    "    review = review.lower()\n",
    "    review = review.split()\n",
    "    review = [ps.stem(word) for word in review if not word in set(stopwords.words('english'))]\n",
    "    review = ' '.join(review)\n",
    "    corpus.append(review)"
   ]
  },
  {
   "cell_type": "code",
   "execution_count": 13,
   "metadata": {},
   "outputs": [
    {
     "name": "stdout",
     "output_type": "stream",
     "text": [
      "['integr global economi made life better billion men women children', 'last year number peopl live extrem poverti cut nearli percent human percent', 'unpreced', 'abstract', 'mean children enough eat mother die childbirth', 'meanwhil crack genet code promis cure diseas plagu us centuri', 'internet deliv entireti human knowledg young girl remot villag singl hand held devic', 'medicin manufactur educ commun experienc transform human be live scale recal revolut agricultur industri', 'result person born today like healthi live longer access opportun time human histori', 'moreov collaps coloni commun allow peopl ever live freedom choos leader', 'despit real troubl area freedom appear retreat fact remain number democraci around world nearli doubl last year', 'remot corner world citizen demand respect digniti peopl matter gender race religion disabl sexual orient deni other digniti subject public reproach', 'explos social media given ordinari peopl way express rais peopl expect us power', 'inde intern order success take given great power longer fight world war end cold war lift shadow nuclear armageddon battlefield europ replac peac union china india remain path remark growth', 'say whitewash challeng face suggest complac', 'rather believ need acknowledg achiev order summon confid carri progress forward make sure abandon thing deliv progress', 'order move forward though acknowledg exist path global integr requir cours correct', 'often trumpet benefit global ignor inequ within among nation ignor endur appeal ethnic sectarian ident left intern institut ill equip underfund resourc order handl transnat challeng', 'real problem neglect altern vision world press forward wealthiest countri poorest religi fundament polit ethnic tribe sect aggress nation crude popul sometim far left often far right seek restor believ better simpler age free outsid contamin', 'cannot dismiss vision', 'power', 'reflect dissatisfact among mani citizen', 'believ vision deliv secur prosper long term believ vision fail recogn basic level common human', 'moreov believ acceler travel technolog telecommun togeth global economi depend global suppli chain make self defeat ultim seek revers progress', 'today nation ring wall would imprison', 'answer cannot simpl reject global integr', 'instead must work togeth make sure benefit integr broadli share disrupt econom polit cultur caus integr squar address', 'place detail polici blueprint let offer broad stroke area believ must better togeth', 'start make global economi work better peopl top', 'open market capit rais standard live around globe global combin rapid progress technolog also weaken posit worker abil secur decent wage', 'advanc economi like union undermin mani manufactur job disappear', 'often benefit global use polit power undermin posit worker', 'develop countri labor organ often suppress growth middl class held back corrupt underinvest', 'mercantilist polici pursu govern export driven model threaten undermin consensu underpin global trade', 'meanwhil global capit often unaccount nearli trillion dollar stash away tax haven shadow bank system grow beyond reach effect oversight']\n"
     ]
    }
   ],
   "source": [
    "print(corpus)"
   ]
  },
  {
   "cell_type": "markdown",
   "metadata": {},
   "source": [
    "## Creating the Bag of Words model"
   ]
  },
  {
   "cell_type": "code",
   "execution_count": 11,
   "metadata": {},
   "outputs": [],
   "source": [
    "from sklearn.feature_extraction.text import CountVectorizer\n",
    "cv = CountVectorizer(max_features = 1500)\n",
    "X = cv.fit_transform(corpus).toarray()"
   ]
  },
  {
   "cell_type": "code",
   "execution_count": 12,
   "metadata": {},
   "outputs": [
    {
     "name": "stdout",
     "output_type": "stream",
     "text": [
      "[[0 0 0 ... 0 0 0]\n",
      " [0 0 0 ... 0 1 0]\n",
      " [0 0 0 ... 0 0 0]\n",
      " ...\n",
      " [0 0 0 ... 0 0 0]\n",
      " [0 0 0 ... 0 0 0]\n",
      " [0 0 0 ... 0 0 0]]\n"
     ]
    }
   ],
   "source": [
    "print(X)"
   ]
  },
  {
   "cell_type": "code",
   "execution_count": null,
   "metadata": {},
   "outputs": [],
   "source": []
  }
 ],
 "metadata": {
  "kernelspec": {
   "display_name": "Python 3",
   "language": "python",
   "name": "python3"
  },
  "language_info": {
   "codemirror_mode": {
    "name": "ipython",
    "version": 3
   },
   "file_extension": ".py",
   "mimetype": "text/x-python",
   "name": "python",
   "nbconvert_exporter": "python",
   "pygments_lexer": "ipython3",
   "version": "3.7.6"
  }
 },
 "nbformat": 4,
 "nbformat_minor": 4
}
